COGS 108 - Final Project Proposal

Names
* Tayler Shaw
* Shaeri Ather
* Liana Reynolds
* Izza Khan
* Andrew Foulkes

Group Members IDs
* A15690462
* A13472821
* A15317727
* A13224326
* A11403886

Research Question - 

    What do Donald Trump’s Tweets reveal about his political approach?

Background and Prior Work

    Donald Trump’s election into the White House as the U.S. The President has sparked a lot of controversy over 
    the course of the past four years. Trump’s political approach, strategies, and personal views and opinions 
    have been at the heart of such controversies. Trump, unlike previous presidents, has also been vocal about
    his ideas and political views (such as his support for building a wall along the U.S.A and Mexico border) on 
    the social media app Twitter. The most significant thing about Trump’s use of Twitter is that he is able to 
    voice his thoughts publicly for all to see without the public having to wait for speeches or large announcements
    on television. We are able to get an immediate look into what Trump’s position is on any given topic or issue.
    Not only that, but Twitter’s character limit forces Trump to make his thoughts more concise, there isn’t much
    room for him to draw out his thoughts or avoid certain aspects of a question. He’s also unable retract what 
    he said without it being screenshotted, saved, etc. by others who have already seen the tweet before it was 
    deleted. With that in mind, Trump’s availability on Twitter makes it that much easier for us to get even more
    insight into exactly what kind of person he is, specifically by looking at the vocabulary used in his tweets. 

    Using Trump’s tweets we can look at the types and lengths of words he uses to determine what kind of person 
    and president Trump is. We are curious to know how much of Donald Trump’s tweets consist of words or phrases 
    with negative connotations (such as “disgusted,” “attack,” “crime,” etc.). We also want to look at his tweets 
    to see how much of a boastful president he is and whether or not the words he uses in his tweets are used to 
    invoke fear and aggression from or towards the people. Analyzing Trump’s tweets will allow us to look at his 
    outlook as President over the past four years and whether or not his tweets have become more positive or 
    negative. Recently Trump has been put up for an impeachment trial for the obstruction of power and has 
    continued tweeting to voice his sentiments on the matter. However, the targets of his tweets and the words 
    he uses in his tweets may have become significantly more negative than those during the first year of his 
    presidency [2]. But that makes us wonder if he has become a more confident and prideful president towards the 
    end of his term than he was at the start of his term.      

    Linguists and other data analysts have done similar projects in which they analyze Trump’s tweets to see the
    effectiveness of his words and the level of vocabulary he uses [1]. Other studies have also looked at how 
    positive or negative Trump’s tweets tend to be. A few of the studies, namely Michael Tauberg’s “Analyzing 
    Trump’s Tweets” analysis, looked at exactly who the tweets were directed towards. Tweets with the most negative 
    words were targeted at specific individuals [1]. Trump’s tweets also contain a lot of attacks towards other 
    political groups, organizations, and even television programs [3]. Positive tweets could be directed towards what
    he agrees with, while negative tweets could be for policies he disagrees with or disapproval of his presidency.
    However, none of the studies have analyzed Trump’s tweets to look at the nature of the tweet as there’s a 
    possibility that Trump’s tweets that contain mostly positively connotated words, but the nature of the tweet 
    itself could be sarcastic.     
 
    Analyzing Trump’s tweets to look at his outlook as president and who he targets most is important not necessarily
    because we want to know about his personality, but because it may be useful for future presidents who may consider
    using Twitter as a way to reach the public in a more relevant and convenient way. The tweets can be used to see 
    what demographics respond to his tweets the most, what his target demographic is, who his followers are, etc. 
    The findings from the tweet analysis can help to create different political strategies for a more relatable, and
    inviting approach as president. Alternatively, a harsher, more carefree attitude used to tweet can also be an 
    appeal for a different group.

    References:
    1. Donald Trump Tweet Analysis:  https://medium.com/swlh/analyzing-trumps-tweets-5368528d2c90
    2. Trends in Trump’s Twitter language towards the end of his term: 
        https://www.usatoday.com/in-depth/news/politics/2019/12/23/donald-trumps-tweets-get-negative-impeachment-2020-election-loom/2601246001/
    3. Summarized findings of Trump’s Twitter History: https://mashable.com/article/new-york-times-trump-tweets/
    
Hypothesis

    We believe that a sentiment analysis of Trump’s tweets will yield overwhelmingly negative results.

Data 
    The ideal data set would include all of Donald Trump’s tweets (the text) and the time and date they were posted
    since he became president because we’re trying to analyze what the sentiment of his tweets reveals about his 
    political ideology and approach. We want the data set to be big enough so that we don’t focus on only a certain
    time period which may give us skewed results. An ideal data set would give us all the tweets Trump tweeted since
    he became president and be as updated as possible in terms of when the data was collected. This data would be 
    collected using Twitter’s API so that we can get accurate and up to date records. It would also be useful to 
    collect data from his deleted tweets which would more accurately depict what people see on the daily basis rather 
    than just what he decides to keep up. We want to make sure this data collected is reliable meaning there’s no
    blank columns to when/ what was tweeted for a certain row. We can just store this data in a csv file or json file
    for the data we get from the api to then run our analysis of what words are used the most and what that signifies. 

Ethics & Privacy 

    Permission to use this data / use it for this purpose.
        Currently awaiting approval for api access from twitter. 

    Privacy concerns regarding datasets and/or terms of use for compliance.
        There are agreements and policies for TwittersData Usage that we will have to be sure to comply with. They
        can be found here, 
            https://developer.twitter.com/en/developer-terms/agreement-and-policy

Potential biases in our datasets.
    Potentially there could be biases based on how the program identifies and classifies words into what we are looking
    to infer. We should be careful not to write the program in such a way to look to prove our hypothesis, but to let 
    the data speak for itself. It could be easy to make the data fulfill our own expectations. 
    
    We should also keep in mind that Donald Trump's tweets may not always be his own and that could skew that data, 
    especially since we have no real way or weeding it out which ones may not have been written by him. 
    For example, On June 18, 2019, USA Today released an article stating that Scavino is the one who writes Trump's 
    tweets. To date, Scavino is the longest-serving aide in the Trump Administration.
    
Team Expectations 

* Communicate Respectfully: Everyone’s ideas will be regarded as valuable and not disregarded. We will treat one another
    the way we wish to be treated, and be able to “make space, take space,” meaning we will listen to one another 
    patiently and speak when we have something important to say, but never over one another. If you have an issue with
    what one of the teammates is doing, gently bring it up with them personally outside of the group chat. Do not be
    passive aggressive. If you have a problem, it will be addressed with sensitivity and honesty. 
    
* Be Responsible & Reliable: Say what you are going to do, and be sure to do it. If a problem arises, be sure to
    communicate it to the group and make up for it in another task if unable to do the original task. 
    
* Help One Another: If someone needs help, doesn’t understand a concept, or know how to execute code, make them feel 
    comfortable asking for help, and do your best in assisting them. We are a team and will grow and work together as 
    such, with respect, kindness, and equal responsibility. 

Project Timeline Proposal 


Meeting Date
	Meeting Time
	Completed Before Meeting
	Discuss at Meeting
	1/23
	9:30 AM
	Read & Think about COGS 108 expectations; brainstorm topics/questions
	Determine best form of communication; Discuss and present potential ideas; Brainstorm more ideas for next meeting 
	1/29
	7:15 PM
	Brainstorm topics/questions
	Vote on and Choose project idea; Discuss ideal dataset(s) and ethics; Finalize idea; draft project proposal and assign proposal sections
	1/30
	7:00 PM
	Edit, finalize, and submit proposal; Search for datasets
	Discuss Wrangling and possible analytical approaches; Assign group members to lead each specific part
	TBA
	TBA
	Import & Wrangle Data (Ant Man); EDA (Hulk)
	Review/Edit wrangling/EDA; Discuss Analysis Plan
	TBA
	TBA
	Finalize wrangling/EDA; Begin Analysis (Iron Man; Thor)
	Discuss/edit Analysis; Complete project check-in
	TBA
	TBA
	Complete analysis; Draft results/conclusion/discussion (Wasp)
	Discuss/edit full project
	3/19
	Before 11:59 PM
	NA
	Turn in Final Project & Group Project Surveys
