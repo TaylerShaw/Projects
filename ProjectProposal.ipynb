{
 "cells": [
  {
   "cell_type": "markdown",
   "metadata": {},
   "source": [
    "# COGS 108 - Final Project Proposal"
   ]
  },
  {
   "cell_type": "markdown",
   "metadata": {},
   "source": [
    "# Names\n",
    "\n",
    "- Tayler Shaw\n",
    "- Shaeri Ather\n",
    "- Liana Reynolds\n",
    "- Izza Khan\n",
    "- Andrew Foulkes"
   ]
  },
  {
   "cell_type": "markdown",
   "metadata": {},
   "source": [
    "# Group Members IDs\n",
    "\n",
    "- A15690462\n",
    "- A13472821\n",
    "- A15317727\n",
    "- A13224326\n",
    "- A11403886"
   ]
  },
  {
   "cell_type": "markdown",
   "metadata": {},
   "source": [
    "# Research Question"
   ]
  },
  {
   "cell_type": "markdown",
   "metadata": {},
   "source": [
    "   "
   ]
  },
  {
   "cell_type": "markdown",
   "metadata": {},
   "source": [
    "## Background and Prior Work \n    Donald Trump’s election into the White House as the U.S. The President has sparked a lot of controversy over 
    the course of the past four years. Trump’s political approach, strategies, and personal views and opinions 
    have been at the heart of such controversies. Trump, unlike previous presidents, has also been vocal about
    his ideas and political views (such as his support for building a wall along the U.S.A and Mexico border) on 
    the social media app Twitter. The most significant thing about Trump’s use of Twitter is that he is able to 
    voice his thoughts publicly for all to see without the public having to wait for speeches or large announcements
    on television. We are able to get an immediate look into what Trump’s position is on any given topic or issue.
    Not only that, but Twitter’s character limit forces Trump to make his thoughts more concise, there isn’t much
    room for him to draw out his thoughts or avoid certain aspects of a question. He’s also unable retract what 
    he said without it being screenshotted, saved, etc. by others who have already seen the tweet before it was 
    deleted. With that in mind, Trump’s availability on Twitter makes it that much easier for us to get even more
    insight into exactly what kind of person he is, specifically by looking at the vocabulary used in his tweets. \n

    Using Trump’s tweets we can look at the types and lengths of words he uses to determine what kind of person 
    and president Trump is. We are curious to know how much of Donald Trump’s tweets consist of words or phrases 
    with negative connotations (such as “disgusted,” “attack,” “crime,” etc.). We also want to look at his tweets 
    to see how much of a boastful president he is and whether or not the words he uses in his tweets are used to 
    invoke fear and aggression from or towards the people. Analyzing Trump’s tweets will allow us to look at his 
    outlook as President over the past four years and whether or not his tweets have become more positive or 
    negative. Recently Trump has been put up for an impeachment trial for the obstruction of power and has 
    continued tweeting to voice his sentiments on the matter. However, the targets of his tweets and the words 
    he uses in his tweets may have become significantly more negative than those during the first year of his 
    presidency [2]. But that makes us wonder if he has become a more confident and prideful president towards the 
    end of his term than he was at the start of his term.      \n

    Linguists and other data analysts have done similar projects in which they analyze Trump’s tweets to see the
    effectiveness of his words and the level of vocabulary he uses [1]. Other studies have also looked at how 
    positive or negative Trump’s tweets tend to be. A few of the studies, namely Michael Tauberg’s “Analyzing 
    Trump’s Tweets” analysis, looked at exactly who the tweets were directed towards. Tweets with the most negative 
    words were targeted at specific individuals [1]. Trump’s tweets also contain a lot of attacks towards other 
    political groups, organizations, and even television programs [3]. Positive tweets could be directed towards what
    he agrees with, while negative tweets could be for policies he disagrees with or disapproval of his presidency.
    However, none of the studies have analyzed Trump’s tweets to look at the nature of the tweet as there’s a 
    possibility that Trump’s tweets that contain mostly positively connotated words, but the nature of the tweet 
    itself could be sarcastic.   \n  
 
    Analyzing Trump’s tweets to look at his outlook as president and who he targets most is important not necessarily
    because we want to know about his personality, but because it may be useful for future presidents who may consider
    using Twitter as a way to reach the public in a more relevant and convenient way. The tweets can be used to see 
    what demographics respond to his tweets the most, what his target demographic is, who his followers are, etc. 
    The findings from the tweet analysis can help to create different political strategies for a more relatable, and
    inviting approach as president. Alternatively, a harsher, more carefree attitude used to tweet can also be an 
    appeal for a different group. \n

    References:
    1. Donald Trump Tweet Analysis:  https://medium.com/swlh/analyzing-trumps-tweets-5368528d2c90 \n
    2. Trends in Trump’s Twitter language towards the end of his term: \n
        https://www.usatoday.com/in-depth/news/politics/2019/12/23/donald-trumps-tweets-get-negative-impeachment-2020-election-loom/2601246001/ \n
    3. Summarized findings of Trump’s Twitter History: https://mashable.com/article/new-york-times-trump-tweets/" \n
   ]
  },
  {
   "cell_type": "markdown",
   "metadata": {},
   "source": [
    "*Fill in your background and prior work here. Be sure to specify which statements are from which references.* \n",
    "\n",
    "References (include links):\n",
    "- 1)\n",
    "- 2)"
   ]
  },
  {
   "cell_type": "markdown",
   "metadata": {},
   "source": [
    "# Hypothesis\n \n We believe that a sentiment analysis of Trump’s tweets will yield overwhelmingly negative results.*"
   ]
  },
  {
   "cell_type": "markdown",
   "metadata": {},
   "source": [
    "*State and defend your hypotheses here.*"
   ]
  },
  {
   "cell_type": "markdown",
   "metadata": {},
   "source": [
    "# Data"
   ]
  },
  {
   "cell_type": "markdown",
   "metadata": {},
   "source": [
    "*Explain what the ideal dataset you would want to answer this question. (This should include: What variables? How many observations? Who/what/how would these data be collected? How would these data be stored/organized?)*"
   ]
  },
  {
   "cell_type": "markdown",
   "metadata": {},
   "source": [
    "# Ethics & Privacy"
   ]
  },
  {
   "cell_type": "markdown",
   "metadata": {},
   "source": [
    "*Fill in your ethics & privacy discussion here*"
   ]
  },
  {
   "cell_type": "markdown",
   "metadata": {},
   "source": [
    "# Team Expectations "
   ]
  },
  {
   "cell_type": "markdown",
   "metadata": {},
   "source": [
    "* *Team Expectation 1*\n",
    "* *Team Expectation 2*\n",
    "* *Team Expecation 3*\n",
    "* ..."
   ]
  },
  {
   "cell_type": "markdown",
   "metadata": {},
   "source": [
    "# Project Timeline Proposal"
   ]
  },
  {
   "cell_type": "markdown",
   "metadata": {},
   "source": [
    "| Meeting Date  | Meeting Time| Completed Before Meeting  | Discuss at Meeting |\n",
    "|---|---|---|---|\n",
    "| 1/20  |  1 PM | Read & Think about COGS 108 expectations; brainstorm topics/questions  | Determine best form of communication; Discuss and decide on final project topic; discuss hypothesis; begin background research | \n",
    "| 1/26  |  10 AM |  Do background research on topic | Discuss ideal dataset(s) and ethics; draft project proposal | \n",
    "| 2/1  | 10 AM  | Edit, finalize, and submit proposal; Search for datasets  | Discuss Wrangling and possible analytical approaches; Assign group members to lead each specific part   |\n",
    "| 2/14  | 6 PM  | Import & Wrangle Data (Ant Man); EDA (Hulk) | Review/Edit wrangling/EDA; Discuss Analysis Plan   |\n",
    "| 2/23  | 12 PM  | Finalize wrangling/EDA; Begin Analysis (Iron Man; Thor) | Discuss/edit Analysis; Complete project check-in |\n",
    "| 3/13  | 12 PM  | Complete analysis; Draft results/conclusion/discussion (Wasp)| Discuss/edit full project |\n",
    "| 3/19  | Before 11:59 PM  | NA | Turn in Final Project & Group Project Surveys |"
   ]
  }
 ],
 "metadata": {
  "kernelspec": {
   "display_name": "Python 3",
   "language": "python",
   "name": "python3"
  },
  "language_info": {
   "codemirror_mode": {
    "name": "ipython",
    "version": 3
   },
   "file_extension": ".py",
   "mimetype": "text/x-python",
   "name": "python",
   "nbconvert_exporter": "python",
   "pygments_lexer": "ipython3",
   "version": "3.6.8"
  }
 },
 "nbformat": 4,
 "nbformat_minor": 2
}
